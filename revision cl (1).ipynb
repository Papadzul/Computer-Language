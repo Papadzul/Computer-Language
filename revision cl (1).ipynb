{
 "cells": [
  {
   "cell_type": "markdown",
   "metadata": {
    "slideshow": {
     "slide_type": "slide"
    }
   },
   "source": [
    "# COMPUTER LANGUAGE\n",
    "## Revision\n",
    "### October 29, 2018"
   ]
  },
  {
   "cell_type": "markdown",
   "metadata": {
    "slideshow": {
     "slide_type": "slide"
    }
   },
   "source": [
    "# Input\n",
    "\n",
    "# Process\n",
    "\n",
    "# Output\n",
    "\n"
   ]
  },
  {
   "cell_type": "markdown",
   "metadata": {
    "slideshow": {
     "slide_type": "subslide"
    }
   },
   "source": [
    "# Input\n",
    "\n",
    "## - assigned value\n",
    "## - ask input from the user\n",
    "\n"
   ]
  },
  {
   "cell_type": "markdown",
   "metadata": {
    "slideshow": {
     "slide_type": "slide"
    }
   },
   "source": [
    "# Process\n",
    "\n",
    "## Formula\n",
    "### SIngle line formula only\n",
    "\n",
    "## Computation\n",
    "\n"
   ]
  },
  {
   "cell_type": "markdown",
   "metadata": {
    "slideshow": {
     "slide_type": "slide"
    }
   },
   "source": [
    "# Output\n",
    "\n",
    "## use the function \n",
    "# print\n",
    "\n",
    "# print (variable)\n",
    "\n",
    "# print ('string', variable)"
   ]
  },
  {
   "cell_type": "markdown",
   "metadata": {
    "slideshow": {
     "slide_type": "slide"
    }
   },
   "source": [
    "# Show the printout of the following code:\n",
    "\n",
    "## width = 5.5\n",
    "## height = 2\n",
    "## area = width * height\n",
    "## print(\"area of the rectangle is\", width * height)"
   ]
  },
  {
   "cell_type": "code",
   "execution_count": 1,
   "metadata": {
    "slideshow": {
     "slide_type": "subslide"
    }
   },
   "outputs": [],
   "source": [
    "# Input\n",
    "\n",
    "# Process\n",
    "\n",
    "# Output\n",
    "\n"
   ]
  },
  {
   "cell_type": "markdown",
   "metadata": {
    "slideshow": {
     "slide_type": "slide"
    }
   },
   "source": [
    "# How do you write a statement to prompt the user to enter a numeric value?"
   ]
  },
  {
   "cell_type": "markdown",
   "metadata": {},
   "source": [
    "# radius = eval(input(\"Enter a radius: \"))"
   ]
  },
  {
   "cell_type": "code",
   "execution_count": 2,
   "metadata": {
    "slideshow": {
     "slide_type": "subslide"
    }
   },
   "outputs": [],
   "source": [
    "# ask input from the user\n",
    "\n",
    "# Input\n",
    "\n",
    "# Process\n",
    "\n",
    "# Output\n",
    "\n"
   ]
  },
  {
   "cell_type": "markdown",
   "metadata": {},
   "source": [
    "# Convert Miles to Kilometers\n",
    "\n",
    "## Translate the following algorithm into Python code:\n",
    "\n",
    "# ■ Step 1: Use a variable named miles with initial value 100.\n",
    "# ■ Step 2: Multiply miles by 1.609 and assign it to a variable named kilometers.\n",
    "# ■ Step 3: Display the value of kilometers."
   ]
  },
  {
   "cell_type": "code",
   "execution_count": 3,
   "metadata": {
    "slideshow": {
     "slide_type": "subslide"
    }
   },
   "outputs": [],
   "source": [
    "# Input\n",
    "\n",
    "# Process\n",
    "\n",
    "# Output"
   ]
  },
  {
   "cell_type": "markdown",
   "metadata": {
    "slideshow": {
     "slide_type": "slide"
    }
   },
   "source": [
    "# Which of the following identifiers are valid?\n",
    "\n",
    "## miles, \n",
    "## Test, \n",
    "## a+b, \n",
    "## b–a, \n",
    "## 4#R, \n",
    "## $4, \n",
    "## #44, \n",
    "## apps, \n",
    "## if, \n",
    "## elif,\n",
    "## x,\n",
    "## y, \n",
    "## radius\n"
   ]
  },
  {
   "cell_type": "markdown",
   "metadata": {
    "slideshow": {
     "slide_type": "slide"
    }
   },
   "source": [
    "# What is wrong in the following statement?\n",
    "## 2 = a\n",
    "\n",
    "# What is x, y, and z after the following statement?\n",
    "## x = y = z = 0\n",
    "\n",
    "\n",
    "# Assume that a = 1 and b = 2. \n",
    "## What is a and b after the following statement?\n",
    "## a, b = b, a"
   ]
  },
  {
   "cell_type": "markdown",
   "metadata": {
    "slideshow": {
     "slide_type": "slide"
    }
   },
   "source": [
    "# What are the results of the following expressions?\n",
    "## 42 / 5  \n",
    "## 42 // 5  \n",
    "## 42 % 5  \n",
    "## 40 % 5  \n",
    "## 1 % 2  \n",
    "## 2 % 1  \n",
    "## 45 + 4 * 4 - 2  \n",
    "## 45 + 43 % 5 * (23 * 3 % 2)  \n",
    "## 5 ** 2  \n",
    "## 5.1 ** 2"
   ]
  },
  {
   "cell_type": "code",
   "execution_count": 4,
   "metadata": {
    "slideshow": {
     "slide_type": "subslide"
    }
   },
   "outputs": [
    {
     "data": {
      "text/plain": [
       "8"
      ]
     },
     "execution_count": 4,
     "metadata": {},
     "output_type": "execute_result"
    }
   ],
   "source": [
    "42 // 5  "
   ]
  },
  {
   "cell_type": "code",
   "execution_count": 5,
   "metadata": {
    "slideshow": {
     "slide_type": "subslide"
    }
   },
   "outputs": [
    {
     "data": {
      "text/plain": [
       "2"
      ]
     },
     "execution_count": 5,
     "metadata": {},
     "output_type": "execute_result"
    }
   ],
   "source": [
    "42 % 5  "
   ]
  },
  {
   "cell_type": "code",
   "execution_count": 6,
   "metadata": {
    "slideshow": {
     "slide_type": "subslide"
    }
   },
   "outputs": [
    {
     "data": {
      "text/plain": [
       "0"
      ]
     },
     "execution_count": 6,
     "metadata": {},
     "output_type": "execute_result"
    }
   ],
   "source": [
    "40 % 5  "
   ]
  },
  {
   "cell_type": "code",
   "execution_count": 7,
   "metadata": {
    "slideshow": {
     "slide_type": "subslide"
    }
   },
   "outputs": [
    {
     "data": {
      "text/plain": [
       "1"
      ]
     },
     "execution_count": 7,
     "metadata": {},
     "output_type": "execute_result"
    }
   ],
   "source": [
    "1 % 2 "
   ]
  },
  {
   "cell_type": "code",
   "execution_count": 8,
   "metadata": {
    "slideshow": {
     "slide_type": "subslide"
    }
   },
   "outputs": [
    {
     "data": {
      "text/plain": [
       "0"
      ]
     },
     "execution_count": 8,
     "metadata": {},
     "output_type": "execute_result"
    }
   ],
   "source": [
    "2 % 1  "
   ]
  },
  {
   "cell_type": "code",
   "execution_count": 9,
   "metadata": {
    "slideshow": {
     "slide_type": "subslide"
    }
   },
   "outputs": [
    {
     "data": {
      "text/plain": [
       "25"
      ]
     },
     "execution_count": 9,
     "metadata": {},
     "output_type": "execute_result"
    }
   ],
   "source": [
    "5 ** 2  "
   ]
  },
  {
   "cell_type": "code",
   "execution_count": 10,
   "metadata": {
    "slideshow": {
     "slide_type": "subslide"
    }
   },
   "outputs": [
    {
     "data": {
      "text/plain": [
       "48"
      ]
     },
     "execution_count": 10,
     "metadata": {},
     "output_type": "execute_result"
    }
   ],
   "source": [
    "45 + 43 % 5 * (23 * 3 % 2)  "
   ]
  },
  {
   "cell_type": "code",
   "execution_count": 11,
   "metadata": {
    "slideshow": {
     "slide_type": "subslide"
    }
   },
   "outputs": [
    {
     "data": {
      "text/plain": [
       "59"
      ]
     },
     "execution_count": 11,
     "metadata": {},
     "output_type": "execute_result"
    }
   ],
   "source": [
    "45 + 4 * 4 - 2"
   ]
  },
  {
   "cell_type": "code",
   "execution_count": 12,
   "metadata": {
    "slideshow": {
     "slide_type": "subslide"
    }
   },
   "outputs": [
    {
     "data": {
      "text/plain": [
       "26.009999999999998"
      ]
     },
     "execution_count": 12,
     "metadata": {},
     "output_type": "execute_result"
    }
   ],
   "source": [
    "5.1 ** 2"
   ]
  },
  {
   "cell_type": "markdown",
   "metadata": {
    "slideshow": {
     "slide_type": "slide"
    }
   },
   "source": [
    "# Assume that a = 1, and that each expression is independent. What are the results of the following expressions?\n",
    "\n",
    "## a += 4\n",
    "## a -= 4\n",
    "## a *= 4\n",
    "## a /= 4\n",
    "## a //= 4\n",
    "## a %= 4\n",
    "## a = 56 * a + 6"
   ]
  },
  {
   "cell_type": "markdown",
   "metadata": {
    "slideshow": {
     "slide_type": "subslide"
    }
   },
   "source": [
    "# a += 4 (a is 5)\n",
    "# a -= 4 (a is -3)\n",
    "# a *= 4 (a is 4)\n",
    "# a /= 4 (a is 0.25)\n",
    "# a //= 4 (a is 0)\n",
    "# a %= 4 (a is 1)\n",
    "# a = 56 * a + 6 (a is 62)"
   ]
  },
  {
   "cell_type": "markdown",
   "metadata": {
    "slideshow": {
     "slide_type": "slide"
    }
   },
   "source": [
    "# Problem:\n",
    "# Solve for the average of 3 numbers.\n",
    "\n",
    "## 1. Plan your input (how many variables and give related names?)\n",
    "###     ask the user to enter the numbers\n",
    "\n",
    "## 2. Plan your process (write a single line formula that computes for the average)\n",
    "\n",
    "## 3. Print the result."
   ]
  },
  {
   "cell_type": "code",
   "execution_count": null,
   "metadata": {
    "slideshow": {
     "slide_type": "subslide"
    }
   },
   "outputs": [],
   "source": [
    "#input\n",
    "a = eval(input('Enter the first number'))\n",
    "b = eval(input('Enter the second number')\n",
    "c = eval(input('Enter the third number')\n",
    "\n",
    "#process\n",
    "#compute for the avarage\n",
    "\n",
    "average = a + b + ) / 3\n",
    "\n",
    "#output\n",
    "\n",
    "print('The average is: ', ave)"
   ]
  }
 ],
 "metadata": {
  "celltoolbar": "Slideshow",
  "kernelspec": {
   "display_name": "Python 3",
   "language": "python",
   "name": "python3"
  },
  "language_info": {
   "codemirror_mode": {
    "name": "ipython",
    "version": 3
   },
   "file_extension": ".py",
   "mimetype": "text/x-python",
   "name": "python",
   "nbconvert_exporter": "python",
   "pygments_lexer": "ipython3",
   "version": "3.6.6"
  }
 },
 "nbformat": 4,
 "nbformat_minor": 2
}
